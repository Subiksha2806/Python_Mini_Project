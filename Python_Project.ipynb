{
  "nbformat": 4,
  "nbformat_minor": 0,
  "metadata": {
    "colab": {
      "provenance": []
    },
    "kernelspec": {
      "name": "python3",
      "display_name": "Python 3"
    },
    "language_info": {
      "name": "python"
    }
  },
  "cells": [
    {
      "cell_type": "markdown",
      "source": [
        "# TO DO LIST"
      ],
      "metadata": {
        "id": "HH17W6QK968M"
      }
    },
    {
      "cell_type": "code",
      "execution_count": null,
      "metadata": {
        "colab": {
          "base_uri": "https://localhost:8080/"
        },
        "id": "iPXDAPM79k4D",
        "outputId": "68d0c4a0-6114-4ef1-a9f5-11f76ab463c9"
      },
      "outputs": [
        {
          "output_type": "stream",
          "name": "stdout",
          "text": [
            "\n",
            "📋 Menu:\n",
            "1. Add Task\n",
            "2. View Tasks\n",
            "3. Remove Task\n",
            "4. Exit\n",
            "Choose (1-4): 3\n",
            "📭 No tasks yet.\n",
            "Enter task number to remove: 1\n",
            "❗ Invalid number.\n",
            "\n",
            "📋 Menu:\n",
            "1. Add Task\n",
            "2. View Tasks\n",
            "3. Remove Task\n",
            "4. Exit\n",
            "Choose (1-4): 1\n",
            "Enter task: complete python\n",
            "✅ Task added!\n",
            "\n",
            "📋 Menu:\n",
            "1. Add Task\n",
            "2. View Tasks\n",
            "3. Remove Task\n",
            "4. Exit\n",
            "Choose (1-4): 1\n",
            "Enter task: complete C\n",
            "✅ Task added!\n",
            "\n",
            "📋 Menu:\n",
            "1. Add Task\n",
            "2. View Tasks\n",
            "3. Remove Task\n",
            "4. Exit\n",
            "Choose (1-4): 4\n",
            "👋 Goodbye! Tasks saved.\n"
          ]
        }
      ],
      "source": [
        "# todo_list.py\n",
        "\n",
        "# Load existing tasks from file\n",
        "def load_tasks():\n",
        "    try:\n",
        "        with open(\"tasks.txt\", \"r\") as file:\n",
        "            return [task.strip() for task in file.readlines()]\n",
        "    except FileNotFoundError:\n",
        "        return []\n",
        "\n",
        "# Save tasks to file\n",
        "def save_tasks(tasks):\n",
        "    with open(\"tasks.txt\", \"w\") as file:\n",
        "        for task in tasks:\n",
        "            file.write(task + \"\\n\")\n",
        "\n",
        "# Show all tasks\n",
        "def display_tasks(tasks):\n",
        "    if not tasks:\n",
        "        print(\"📭 No tasks yet.\")\n",
        "    else:\n",
        "        print(\"\\n📝 Your Tasks:\")\n",
        "        for i, task in enumerate(tasks, 1):\n",
        "            print(f\"{i}. {task}\")\n",
        "        print()\n",
        "\n",
        "# Main app loop\n",
        "def main():\n",
        "    tasks = load_tasks()\n",
        "\n",
        "    while True:\n",
        "        print(\"\\n📋 Menu:\\n1. Add Task\\n2. View Tasks\\n3. Remove Task\\n4. Exit\")\n",
        "        choice = input(\"Choose (1-4): \")\n",
        "\n",
        "        if choice == '1':\n",
        "            task = input(\"Enter task: \")\n",
        "            tasks.append(task)\n",
        "            save_tasks(tasks)\n",
        "            print(\"✅ Task added!\")\n",
        "        elif choice == '2':\n",
        "            display_tasks(tasks)\n",
        "        elif choice == '3':\n",
        "            display_tasks(tasks)\n",
        "            try:\n",
        "                task_no = int(input(\"Enter task number to remove: \"))\n",
        "                if 1 <= task_no <= len(tasks):\n",
        "                    removed = tasks.pop(task_no - 1)\n",
        "                    save_tasks(tasks)\n",
        "                    print(f\"❌ Removed: {removed}\")\n",
        "                else:\n",
        "                    print(\"❗ Invalid number.\")\n",
        "            except ValueError:\n",
        "                print(\"❗ Please enter a valid number.\")\n",
        "        elif choice == '4':\n",
        "            save_tasks(tasks)\n",
        "            print(\"👋 Goodbye! Tasks saved.\")\n",
        "            break\n",
        "        else:\n",
        "            print(\"❗ Invalid choice. Try again.\")\n",
        "\n",
        "if __name__ == \"__main__\":\n",
        "    main()\n"
      ]
    }
  ]
}